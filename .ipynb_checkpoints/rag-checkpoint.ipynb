{
 "cells": [
  {
   "cell_type": "markdown",
   "metadata": {},
   "source": [
    "# Simple Clinical RAG System: A Practical Introduction for Healthcare Professionals\n",
    "\n",
    "## Introduction\n",
    "\n",
    "This notebook introduces **Retrieval Augmented Generation (RAG)** - a powerful technique that helps large language models (LLMs) answer questions more accurately using specific information sources.\n",
    "\n",
    "**Why is this important for healthcare?** \n",
    "- Ensures responses are grounded in verified medical knowledge\n",
    "- Gives control over the information sources used\n",
    "- Provides references/citations for answers\n",
    "- Reduces hallucinations (made-up information)\n",
    "\n",
    "We'll build a simple but practical RAG system that can answer questions about clinical guidelines, research papers, or other healthcare documents.\n"
   ]
  },
  {
   "cell_type": "markdown",
   "metadata": {},
   "source": [
    "## Setup and Installation\n",
    "\n",
    "First, let's install the necessary packages:"
   ]
  },
  {
   "cell_type": "code",
   "execution_count": 9,
   "metadata": {},
   "outputs": [],
   "source": [
    "# Install required packages\n",
    "!pip install -q langchain langchain-openai langchain-text-splitters langchain-community faiss-cpu"
   ]
  },
  {
   "cell_type": "markdown",
   "metadata": {},
   "source": [
    "## 1. Setting up your API keys\n",
    "\n",
    "To use LLMs for our system, we need to set up API access. Here we'll use OpenAI's models, but you could replace this with any other provider."
   ]
  },
  {
   "cell_type": "code",
   "execution_count": 3,
   "metadata": {},
   "outputs": [],
   "source": [
    "import os\n",
    "import getpass\n",
    "\n",
    "# Uncomment and run this if you need to set your API key\n",
    "os.environ[\"OPENAI_API_KEY\"] = getpass.getpass(\"Enter your OpenAI API key: \")"
   ]
  },
  {
   "cell_type": "code",
   "execution_count": 4,
   "metadata": {},
   "outputs": [
    {
     "name": "stdout",
     "output_type": "stream",
     "text": [
      "API key is set ✓\n"
     ]
    }
   ],
   "source": [
    "# To verify your API key is set properly\n",
    "if \"OPENAI_API_KEY\" in os.environ:\n",
    "    print(\"API key is set ✓\")\n",
    "else:\n",
    "    print(\"API key is not set. Please run the cell above.\")"
   ]
  },
  {
   "cell_type": "markdown",
   "metadata": {},
   "source": [
    "## 2. Selecting Our Components\n",
    "\n",
    "A RAG system has three essential components:\n",
    "1. A chat model (for generating answers)\n",
    "2. An embedding model (for converting text to numerical representations)\n",
    "3. A vector store (for searching and retrieving relevant information)"
   ]
  },
  {
   "cell_type": "code",
   "execution_count": 6,
   "metadata": {},
   "outputs": [],
   "source": [
    "from langchain_openai import ChatOpenAI, OpenAIEmbeddings\n",
    "from langchain_community.vectorstores import FAISS\n",
    "\n",
    "# Initialize our components\n",
    "llm = ChatOpenAI(model=\"gpt-4o-mini\", temperature=0)\n",
    "embeddings = OpenAIEmbeddings()"
   ]
  },
  {
   "cell_type": "markdown",
   "metadata": {},
   "source": [
    "## 3. Loading Medical Documents\n",
    "\n",
    "For this example, let's use a sample clinical guideline. In real applications, you might load actual guidelines, research papers, or hospital protocols.\n"
   ]
  },
  {
   "cell_type": "code",
   "execution_count": 7,
   "metadata": {},
   "outputs": [
    {
     "name": "stdout",
     "output_type": "stream",
     "text": [
      "Split document into 9 chunks\n"
     ]
    }
   ],
   "source": [
    "from langchain_text_splitters import RecursiveCharacterTextSplitter\n",
    "from langchain_core.documents import Document\n",
    "\n",
    "# Sample clinical guideline text (normally you'd load this from a file)\n",
    "sample_guideline = \"\"\"\n",
    "# Hypertension Management Guidelines 2024\n",
    "\n",
    "## Definition and Classification\n",
    "Hypertension is defined as systolic blood pressure (SBP) ≥ 130 mm Hg or diastolic blood pressure (DBP) ≥ 80 mm Hg.\n",
    "\n",
    "Classification:\n",
    "- Normal: SBP < 120 mm Hg and DBP < 80 mm Hg\n",
    "- Elevated: SBP 120-129 mm Hg and DBP < 80 mm Hg\n",
    "- Stage 1: SBP 130-139 mm Hg or DBP 80-89 mm Hg\n",
    "- Stage 2: SBP ≥ 140 mm Hg or DBP ≥ 90 mm Hg\n",
    "- Hypertensive Crisis: SBP > 180 mm Hg and/or DBP > 120 mm Hg\n",
    "\n",
    "## Initial Assessment\n",
    "- Comprehensive history and physical examination\n",
    "- Laboratory testing: fasting blood glucose, complete blood count, lipid profile, basic metabolic panel, urinalysis, ECG\n",
    "- Assess for target organ damage and cardiovascular risk factors\n",
    "- Screen for secondary causes of hypertension in patients with suggestive symptoms or resistant hypertension\n",
    "\n",
    "## Treatment Recommendations\n",
    "\n",
    "### Lifestyle Modifications (for all patients)\n",
    "- Dietary Approaches to Stop Hypertension (DASH) eating plan\n",
    "- Sodium restriction (<2,300 mg/day)\n",
    "- Physical activity (at least 150 minutes of moderate-intensity aerobic activity per week)\n",
    "- Weight reduction for overweight or obese patients\n",
    "- Limit alcohol consumption (≤2 drinks/day for men, ≤1 drink/day for women)\n",
    "- Smoking cessation\n",
    "\n",
    "### Pharmacological Therapy\n",
    "- First-line agents include thiazide diuretics, ACE inhibitors, ARBs, and calcium channel blockers\n",
    "- Initial therapy with two first-line agents from different classes for stage 2 hypertension\n",
    "- Consider patient's comorbidities when selecting agents:\n",
    "  - Diabetes mellitus: ACE inhibitors or ARBs preferred\n",
    "  - Chronic kidney disease: ACE inhibitors or ARBs preferred\n",
    "  - Heart failure with reduced ejection fraction: ACE inhibitors, ARBs, beta-blockers, mineralocorticoid receptor antagonists, and diuretics\n",
    "  - Coronary artery disease: Beta-blockers, ACE inhibitors, or ARBs\n",
    "  - Stroke history: Thiazide diuretics and ACE inhibitors\n",
    "\n",
    "### Special Populations\n",
    "- Older adults (≥65 years): Start with lower doses, monitor for orthostatic hypotension\n",
    "- Pregnancy: Methyldopa, nifedipine, and labetalol are preferred; ACE inhibitors and ARBs are contraindicated\n",
    "- Children and adolescents: Treatment thresholds and targets depend on age, height, and sex\n",
    "\n",
    "## Blood Pressure Targets\n",
    "- General population: <130/80 mm Hg\n",
    "- Older adults (≥65 years): <130/80 mm Hg if tolerated\n",
    "- Patients with diabetes or chronic kidney disease: <130/80 mm Hg\n",
    "- Heart failure with reduced ejection fraction: <130/80 mm Hg\n",
    "\n",
    "## Follow-up and Monitoring\n",
    "- Evaluate monthly until BP is at target, then every 3-6 months\n",
    "- Home BP monitoring is recommended for all patients\n",
    "- Assess medication adherence at each visit\n",
    "- Monitor for adverse effects of medications\n",
    "- Reassess cardiovascular risk regularly\n",
    "\n",
    "## Treatment-Resistant Hypertension\n",
    "- Defined as BP above target despite concurrent use of 3 antihypertensive agents of different classes, including a diuretic\n",
    "- Ensure proper BP measurement technique and medication adherence\n",
    "- Consider secondary causes\n",
    "- Consider referral to a hypertension specialist\n",
    "\"\"\"\n",
    "\n",
    "# Create a Document object\n",
    "doc = Document(page_content=sample_guideline)\n",
    "\n",
    "# Split the document into chunks\n",
    "text_splitter = RecursiveCharacterTextSplitter(\n",
    "    chunk_size=500,  # Characters per chunk\n",
    "    chunk_overlap=50,  # Overlap between chunks\n",
    "    add_start_index=True  # Track original position\n",
    ")\n",
    "splits = text_splitter.split_documents([doc])\n",
    "\n",
    "print(f\"Split document into {len(splits)} chunks\")"
   ]
  },
  {
   "cell_type": "markdown",
   "metadata": {},
   "source": [
    "## 4. Creating Our Vector Database\n",
    "\n",
    "Now let's index our document chunks so we can retrieve them later:\n"
   ]
  },
  {
   "cell_type": "code",
   "execution_count": 10,
   "metadata": {},
   "outputs": [
    {
     "name": "stdout",
     "output_type": "stream",
     "text": [
      "Vector database created successfully!\n"
     ]
    }
   ],
   "source": [
    "# Create a vector store with our document chunks\n",
    "vector_store = FAISS.from_documents(documents=splits, embedding=embeddings)\n",
    "\n",
    "print(\"Vector database created successfully!\")"
   ]
  },
  {
   "cell_type": "markdown",
   "metadata": {},
   "source": [
    "## 5. Building Our RAG Application\n",
    "\n",
    "Let's create a simple application that:\n",
    "1. Takes a clinical question\n",
    "2. Retrieves relevant information from our guidelines\n",
    "3. Generates an evidence-based answer with citations"
   ]
  },
  {
   "cell_type": "code",
   "execution_count": 11,
   "metadata": {},
   "outputs": [],
   "source": [
    "from langchain import hub\n",
    "from langgraph.graph import START, StateGraph\n",
    "from typing_extensions import TypedDict, List\n",
    "\n",
    "# Define our clinical RAG prompt\n",
    "clinical_rag_prompt = \"\"\"You are an AI clinical assistant helping healthcare professionals by providing evidence-based information.\n",
    "Use ONLY the following pieces of retrieved context to answer the question. \n",
    "If you don't know the answer based on the provided context, just say that you don't know.\n",
    "Always cite your sources by mentioning which section of the guidelines you're referencing.\n",
    "Use clear, clinically appropriate language.\n",
    "\n",
    "Context:\n",
    "{context}\n",
    "\n",
    "Question: {question}\n",
    "\n",
    "Clinical Response:\"\"\"\n",
    "\n",
    "# Define the state for our application\n",
    "class State(TypedDict):\n",
    "    question: str\n",
    "    context: List[Document]\n",
    "    answer: str\n",
    "\n",
    "# Define our application steps\n",
    "def retrieve(state: State):\n",
    "    retrieved_docs = vector_store.similarity_search(state[\"question\"], k=3)\n",
    "    return {\"context\": retrieved_docs}\n",
    "\n",
    "def generate(state: State):\n",
    "    # Combine the text from all retrieved documents\n",
    "    docs_content = \"\\n\\n\".join(doc.page_content for doc in state[\"context\"])\n",
    "    \n",
    "    # Create messages from our prompt\n",
    "    from langchain_core.prompts import PromptTemplate\n",
    "    prompt = PromptTemplate.from_template(clinical_rag_prompt)\n",
    "    messages = prompt.invoke({\"question\": state[\"question\"], \"context\": docs_content}).to_messages()\n",
    "    \n",
    "    # Generate response\n",
    "    response = llm.invoke(messages)\n",
    "    return {\"answer\": response.content}\n",
    "\n",
    "# Build our RAG application\n",
    "graph_builder = StateGraph(State)\n",
    "graph_builder.add_node(\"retrieve\", retrieve)\n",
    "graph_builder.add_node(\"generate\", generate)\n",
    "graph_builder.add_edge(START, \"retrieve\")\n",
    "graph_builder.add_edge(\"retrieve\", \"generate\")\n",
    "graph = graph_builder.compile()"
   ]
  },
  {
   "cell_type": "markdown",
   "metadata": {},
   "source": [
    "## 6. Testing Our System\n",
    "\n",
    "Now let's test our clinical RAG system with some healthcare questions:"
   ]
  },
  {
   "cell_type": "code",
   "execution_count": 12,
   "metadata": {},
   "outputs": [
    {
     "name": "stdout",
     "output_type": "stream",
     "text": [
      "Question: What medication is recommended for hypertensive patients with diabetes?\n",
      "\n",
      "Answer: For hypertensive patients with diabetes, ACE inhibitors or ARBs are preferred as the first-line agents. This recommendation is based on the need to consider the patient's comorbidities when selecting antihypertensive therapy (Pharmacological Therapy section).\n",
      "\n",
      "Sources referenced:\n",
      "  Source 1: ### Pharmacological Therapy\n",
      "- First-line agents include thiazide diuretics, ACE inhibitors, ARBs, and calcium channel blockers\n",
      "- Initial therapy with ...\n",
      "\n",
      "  Source 2: ## Initial Assessment\n",
      "- Comprehensive history and physical examination\n",
      "- Laboratory testing: fasting blood glucose, complete blood count, lipid profil...\n",
      "\n",
      "  Source 3: ## Treatment Recommendations\n",
      "\n",
      "### Lifestyle Modifications (for all patients)\n",
      "- Dietary Approaches to Stop Hypertension (DASH) eating plan\n",
      "- Sodium res...\n",
      "\n",
      "--------------------------------------------------------------------------------\n",
      "Question: What is the blood pressure target for elderly patients?\n",
      "\n",
      "Answer: The blood pressure target for older adults (≥65 years) is <130/80 mm Hg if tolerated (Blood Pressure Targets section).\n",
      "\n",
      "Sources referenced:\n",
      "  Source 1: ## Blood Pressure Targets\n",
      "- General population: <130/80 mm Hg\n",
      "- Older adults (≥65 years): <130/80 mm Hg if tolerated\n",
      "- Patients with diabetes or chron...\n",
      "\n",
      "  Source 2: # Hypertension Management Guidelines 2024\n",
      "\n",
      "## Definition and Classification\n",
      "Hypertension is defined as systolic blood pressure (SBP) ≥ 130 mm Hg or di...\n",
      "\n",
      "  Source 3: ## Treatment Recommendations\n",
      "\n",
      "### Lifestyle Modifications (for all patients)\n",
      "- Dietary Approaches to Stop Hypertension (DASH) eating plan\n",
      "- Sodium res...\n",
      "\n",
      "--------------------------------------------------------------------------------\n",
      "Question: When should I refer a patient to a hypertension specialist?\n",
      "\n",
      "Answer: You should consider referring a patient to a hypertension specialist if they have treatment-resistant hypertension, which is defined as blood pressure above target despite the concurrent use of three antihypertensive agents of different classes, including a diuretic. Additionally, referral may be warranted if there are concerns about secondary causes of hypertension or if the patient requires specialized management that exceeds the scope of general practice (Treatment-Resistant Hypertension section).\n",
      "\n",
      "Sources referenced:\n",
      "  Source 1: ## Treatment-Resistant Hypertension\n",
      "- Defined as BP above target despite concurrent use of 3 antihypertensive agents of different classes, including a...\n",
      "\n",
      "  Source 2: ## Initial Assessment\n",
      "- Comprehensive history and physical examination\n",
      "- Laboratory testing: fasting blood glucose, complete blood count, lipid profil...\n",
      "\n",
      "  Source 3: ## Treatment Recommendations\n",
      "\n",
      "### Lifestyle Modifications (for all patients)\n",
      "- Dietary Approaches to Stop Hypertension (DASH) eating plan\n",
      "- Sodium res...\n",
      "\n",
      "--------------------------------------------------------------------------------\n"
     ]
    }
   ],
   "source": [
    "def ask_medical_question(question):\n",
    "    response = graph.invoke({\"question\": question})\n",
    "    print(f\"Question: {question}\\n\")\n",
    "    print(f\"Answer: {response['answer']}\\n\")\n",
    "    print(\"Sources referenced:\")\n",
    "    for i, doc in enumerate(response[\"context\"], 1):\n",
    "        print(f\"  Source {i}: {doc.page_content[:150]}...\\n\")\n",
    "\n",
    "# Test with clinical questions\n",
    "questions = [\n",
    "    \"What medication is recommended for hypertensive patients with diabetes?\",\n",
    "    \"What is the blood pressure target for elderly patients?\",\n",
    "    \"When should I refer a patient to a hypertension specialist?\"\n",
    "]\n",
    "\n",
    "for question in questions:\n",
    "    ask_medical_question(question)\n",
    "    print(\"-\" * 80)"
   ]
  },
  {
   "cell_type": "markdown",
   "metadata": {},
   "source": [
    "## 7. Extending Your Knowledge Base\n",
    "\n",
    "In a real-world setting, you might want to load multiple clinical guidelines or research papers. Here's how you could do that:\n"
   ]
  },
  {
   "cell_type": "code",
   "execution_count": null,
   "metadata": {},
   "outputs": [],
   "source": [
    "# This is just example code - don't run this cell unless you have actual files\n",
    "\"\"\"\n",
    "from langchain_community.document_loaders import PyPDFLoader, TextLoader\n",
    "\n",
    "# Load clinical guidelines from PDF files\n",
    "documents = []\n",
    "\n",
    "# Load a PDF guideline\n",
    "pdf_loader = PyPDFLoader(\"diabetes_guidelines_2024.pdf\")\n",
    "documents.extend(pdf_loader.load())\n",
    "\n",
    "# Load a text guideline\n",
    "text_loader = TextLoader(\"heart_failure_protocol.txt\")\n",
    "documents.extend(text_loader.load())\n",
    "\n",
    "# Split all documents\n",
    "all_splits = text_splitter.split_documents(documents)\n",
    "print(f\"Loaded and split {len(all_splits)} document chunks\")\n",
    "\n",
    "# Index in vector database\n",
    "vector_store = FAISS.from_documents(documents=all_splits, embedding=embeddings)\n",
    "\"\"\""
   ]
  },
  {
   "cell_type": "markdown",
   "metadata": {},
   "source": [
    "## 8. Conclusion and Next Steps\n",
    "\n",
    "Congratulations! You've built a basic RAG system for clinical decision support that:\n",
    "- Takes medical questions in natural language\n",
    "- Retrieves relevant information from clinical guidelines\n",
    "- Generates evidence-based answers with citations\n",
    "\n",
    "**Potential improvements:**\n",
    "- Add more clinical guidelines and research papers\n",
    "- Implement advanced retrieval techniques like hybrid search\n",
    "- Enable conversation history for follow-up questions\n",
    "- Add the ability to upload documents through a user interface\n",
    "- Implement fact-checking or validation of the generated answers\n"
   ]
  },
  {
   "cell_type": "markdown",
   "metadata": {},
   "source": [
    "## 9. Ethical Considerations in Healthcare AI\n",
    "\n",
    "When deploying AI systems in healthcare, consider:\n",
    "- Patient privacy and data security\n",
    "- Transparency about AI use with patients and colleagues\n",
    "- Clinical validation of system outputs\n",
    "- Clear human oversight and responsibility\n",
    "- Regular auditing and monitoring of system performance\n",
    "- Local regulatory compliance\n",
    "\n",
    "Remember: AI tools should augment, not replace, clinical judgment."
   ]
  }
 ],
 "metadata": {
  "kernelspec": {
   "display_name": "medcat-env",
   "language": "python",
   "name": "python3"
  },
  "language_info": {
   "codemirror_mode": {
    "name": "ipython",
    "version": 3
   },
   "file_extension": ".py",
   "mimetype": "text/x-python",
   "name": "python",
   "nbconvert_exporter": "python",
   "pygments_lexer": "ipython3",
   "version": "3.10.16"
  }
 },
 "nbformat": 4,
 "nbformat_minor": 2
}
